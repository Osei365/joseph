{
  "nbformat": 4,
  "nbformat_minor": 0,
  "metadata": {
    "colab": {
      "name": "Colab.ipynb",
      "provenance": [],
      "authorship_tag": "ABX9TyNzfufIzChhY/e3tV9Ag4m4",
      "include_colab_link": true
    },
    "kernelspec": {
      "name": "python3",
      "display_name": "Python 3"
    }
  },
  "cells": [
    {
      "cell_type": "markdown",
      "metadata": {
        "id": "view-in-github",
        "colab_type": "text"
      },
      "source": [
        "<a href=\"https://colab.research.google.com/github/abodunrin95/joseph/blob/master/Colab.ipynb\" target=\"_parent\"><img src=\"https://colab.research.google.com/assets/colab-badge.svg\" alt=\"Open In Colab\"/></a>"
      ]
    },
    {
      "cell_type": "code",
      "metadata": {
        "id": "B7eSmqY5Uzs5",
        "colab_type": "code",
        "colab": {
          "base_uri": "https://localhost:8080/",
          "height": 142
        },
        "outputId": "75d7017f-c6a2-4180-d41e-b69a42cda15f"
      },
      "source": [
        "import pandas as pd\n",
        "pd.DataFrame({'6': [3,4,5]})"
      ],
      "execution_count": 2,
      "outputs": [
        {
          "output_type": "execute_result",
          "data": {
            "text/html": [
              "<div>\n",
              "<style scoped>\n",
              "    .dataframe tbody tr th:only-of-type {\n",
              "        vertical-align: middle;\n",
              "    }\n",
              "\n",
              "    .dataframe tbody tr th {\n",
              "        vertical-align: top;\n",
              "    }\n",
              "\n",
              "    .dataframe thead th {\n",
              "        text-align: right;\n",
              "    }\n",
              "</style>\n",
              "<table border=\"1\" class=\"dataframe\">\n",
              "  <thead>\n",
              "    <tr style=\"text-align: right;\">\n",
              "      <th></th>\n",
              "      <th>6</th>\n",
              "    </tr>\n",
              "  </thead>\n",
              "  <tbody>\n",
              "    <tr>\n",
              "      <th>0</th>\n",
              "      <td>3</td>\n",
              "    </tr>\n",
              "    <tr>\n",
              "      <th>1</th>\n",
              "      <td>4</td>\n",
              "    </tr>\n",
              "    <tr>\n",
              "      <th>2</th>\n",
              "      <td>5</td>\n",
              "    </tr>\n",
              "  </tbody>\n",
              "</table>\n",
              "</div>"
            ],
            "text/plain": [
              "   6\n",
              "0  3\n",
              "1  4\n",
              "2  5"
            ]
          },
          "metadata": {
            "tags": []
          },
          "execution_count": 2
        }
      ]
    },
    {
      "cell_type": "code",
      "metadata": {
        "id": "L_pMoIvcTqIx",
        "colab_type": "code",
        "colab": {
          "base_uri": "https://localhost:8080/",
          "height": 34
        },
        "outputId": "e986db0d-9113-4b79-aa78-9731a38ca740"
      },
      "source": [
        "import time\n",
        " \n",
        "print(time.ctime())"
      ],
      "execution_count": 1,
      "outputs": [
        {
          "output_type": "stream",
          "text": [
            "Wed Jul  8 21:35:18 2020\n"
          ],
          "name": "stdout"
        }
      ]
    },
    {
      "cell_type": "code",
      "metadata": {
        "id": "k-3j31seVWln",
        "colab_type": "code",
        "colab": {
          "base_uri": "https://localhost:8080/",
          "height": 34
        },
        "outputId": "eb20b52d-49e1-488f-a6c5-825eb6592159"
      },
      "source": [
        "time.sleep(5)\n",
        " \n",
        "print(time.ctime())"
      ],
      "execution_count": 3,
      "outputs": [
        {
          "output_type": "stream",
          "text": [
            "Wed Jul  8 21:35:24 2020\n"
          ],
          "name": "stdout"
        }
      ]
    },
    {
      "cell_type": "code",
      "metadata": {
        "id": "EfGsiwE2YdzB",
        "colab_type": "code",
        "colab": {}
      },
      "source": [
        ""
      ],
      "execution_count": null,
      "outputs": []
    },
    {
      "cell_type": "markdown",
      "metadata": {
        "id": "K7mCknf2cMw6",
        "colab_type": "text"
      },
      "source": [
        " Constraints are \n",
        " \n",
        " - $3x_1 + 6x_2 + x_3 =< 38$\n",
        " - $7x_1 + 3x_2 + 2x_3 =< 37$\n",
        " - $4x_1 + 5x_2 + 2x_3 =< 19$\n",
        " - $x_1, x_2, x_3 >= 0$\n",
        " \n",
        " - $u_i(t) = x(t) + \\beta(\\hat{x}(t) - x_i(t)) + \\beta \\sum_{k=1}^{n_v}(x_i1, k^(t)) - x_i2, k^(t))$"
      ]
    },
    {
      "cell_type": "markdown",
      "metadata": {
        "id": "hHcB0n0pYy6W",
        "colab_type": "text"
      },
      "source": [
        "$e^x = \\sum_{i = 0}^\\infty \\frac{2}{i|} x^{(i + 2)^5}$"
      ]
    }
  ]
}